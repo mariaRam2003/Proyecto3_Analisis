{
 "cells": [
  {
   "cell_type": "markdown",
   "metadata": {},
   "source": [
    "# Proyecto #3\n",
    "## Algoritmos MTF e IMTF\n",
    "---\n",
    "**Integrantes:**\n",
    "- Diego Leiva\n",
    "- Maria Ramirez\n",
    "- Gustavo Gonzalez\n",
    "- Jennifer Toxcon\n",
    "---"
   ]
  },
  {
   "cell_type": "markdown",
   "metadata": {},
   "source": [
    "## MTF"
   ]
  },
  {
   "cell_type": "code",
   "execution_count": 11,
   "metadata": {},
   "outputs": [],
   "source": [
    "def mtf_cost(config, sequence):\n",
    "    print(f\"Lista de Configuración: {config}\")\n",
    "    print(f\"Secuencia de Solicitudes: {sequence}\\n\")\n",
    "    total_cost = 0\n",
    "    for request in sequence:\n",
    "        cost = config.index(request) + 1\n",
    "        total_cost += cost\n",
    "        config.remove(request)\n",
    "        config.insert(0, request)\n",
    "        print(f\"Configuración: {config}, Solicitud: {request}, Costo: {cost}\")\n",
    "    print(f\"\\nCosto total: {total_cost}\")\n",
    "    return total_cost\n",
    "\n",
    "def min_cost_sequence(config, lenght):\n",
    "    sequence = [config[0]] * lenght\n",
    "    print(f\"Secuencia de Costo Mímimo encontrada: {sequence} \\\n",
    "          \\n para una longitud de {lenght} solicitudes\")\n",
    "    return sequence\n",
    "\n",
    "def max_cost_sequence(config, lenght):\n",
    "    sequence = []\n",
    "    current_config = config[:]\n",
    "    for _ in range(lenght):\n",
    "        sequence.append(current_config[-1])\n",
    "        current_config.insert(0, current_config.pop())  # Mueve el último elemento al frente\n",
    "    print(f\"Secuencia de Costo Máximo encontrada: {sequence} \\\n",
    "          \\npara una longitud de {lenght} solicitudes\")\n",
    "    return sequence"
   ]
  },
  {
   "cell_type": "markdown",
   "metadata": {},
   "source": [
    "## IMTF"
   ]
  },
  {
   "cell_type": "code",
   "execution_count": 12,
   "metadata": {},
   "outputs": [],
   "source": [
    "def imtf_cost(config, sequence):\n",
    "    print(f\"Lista de Configuración: {config}\")\n",
    "    print(f\"Secuencia de Solicitudes: {sequence}\\n\")\n",
    "    total_cost = 0\n",
    "    n = len(sequence)\n",
    "    for i, request in enumerate(sequence):\n",
    "        cost = config.index(request) + 1\n",
    "        total_cost += cost\n",
    "        \n",
    "        # Look-ahead to decide whether to move the element to the front\n",
    "        if request in sequence[i+1:i+cost]:\n",
    "            config.remove(request)\n",
    "            config.insert(0, request)\n",
    "        \n",
    "        print(f\"Configuración: {config}, Solicitud: {request}, Costo: {cost}\")\n",
    "    print(f\"\\nCosto total: {total_cost}\")\n",
    "    return total_cost"
   ]
  },
  {
   "cell_type": "markdown",
   "metadata": {},
   "source": [
    "---\n",
    "**A) Calcular el costo de acceso utilizando el algoritmo MTF para**\n",
    "    \n",
    "a. Lista de configuración: \n",
    "`0, 1, 2, 3, 4`\n",
    "\n",
    "b. Secuencia de solicitudes: \n",
    "`0, 1, 2, 3, 4, 0, 1, 2, 3, 4, 0, 1, 2, 3, 4, 0, 1, 2, 3, 4`\n",
    "    \n",
    "Imprima la lista de configuración, la solicitud, su costo y la configuración de la lista aplicando MTF por cada solicitud en la secuencia y, al final, imprima el costo total de los accesos."
   ]
  },
  {
   "cell_type": "code",
   "execution_count": 13,
   "metadata": {},
   "outputs": [
    {
     "name": "stdout",
     "output_type": "stream",
     "text": [
      "Lista de Configuración: [0, 1, 2, 3, 4]\n",
      "Secuencia de Solicitudes: [0, 1, 2, 3, 4, 0, 1, 2, 3, 4, 0, 1, 2, 3, 4, 0, 1, 2, 3, 4]\n",
      "\n",
      "Configuración: [0, 1, 2, 3, 4], Solicitud: 0, Costo: 1\n",
      "Configuración: [1, 0, 2, 3, 4], Solicitud: 1, Costo: 2\n",
      "Configuración: [2, 1, 0, 3, 4], Solicitud: 2, Costo: 3\n",
      "Configuración: [3, 2, 1, 0, 4], Solicitud: 3, Costo: 4\n",
      "Configuración: [4, 3, 2, 1, 0], Solicitud: 4, Costo: 5\n",
      "Configuración: [0, 4, 3, 2, 1], Solicitud: 0, Costo: 5\n",
      "Configuración: [1, 0, 4, 3, 2], Solicitud: 1, Costo: 5\n",
      "Configuración: [2, 1, 0, 4, 3], Solicitud: 2, Costo: 5\n",
      "Configuración: [3, 2, 1, 0, 4], Solicitud: 3, Costo: 5\n",
      "Configuración: [4, 3, 2, 1, 0], Solicitud: 4, Costo: 5\n",
      "Configuración: [0, 4, 3, 2, 1], Solicitud: 0, Costo: 5\n",
      "Configuración: [1, 0, 4, 3, 2], Solicitud: 1, Costo: 5\n",
      "Configuración: [2, 1, 0, 4, 3], Solicitud: 2, Costo: 5\n",
      "Configuración: [3, 2, 1, 0, 4], Solicitud: 3, Costo: 5\n",
      "Configuración: [4, 3, 2, 1, 0], Solicitud: 4, Costo: 5\n",
      "Configuración: [0, 4, 3, 2, 1], Solicitud: 0, Costo: 5\n",
      "Configuración: [1, 0, 4, 3, 2], Solicitud: 1, Costo: 5\n",
      "Configuración: [2, 1, 0, 4, 3], Solicitud: 2, Costo: 5\n",
      "Configuración: [3, 2, 1, 0, 4], Solicitud: 3, Costo: 5\n",
      "Configuración: [4, 3, 2, 1, 0], Solicitud: 4, Costo: 5\n",
      "\n",
      "Costo total: 90\n"
     ]
    }
   ],
   "source": [
    "config = [0, 1, 2, 3, 4]\n",
    "sequence = [0, 1, 2, 3, 4, 0, 1, 2, 3, 4, 0, 1, 2, 3, 4, 0, 1, 2, 3, 4]\n",
    "cost = mtf_cost(config, sequence)"
   ]
  },
  {
   "cell_type": "markdown",
   "metadata": {},
   "source": [
    "---\n",
    "**B) Calcular el costo de acceso utilizando el algoritmo MTF para**\n",
    "    \n",
    "a. Lista de configuración: \n",
    "`0, 1, 2, 3, 4`\n",
    "    \n",
    "b. Secuencia de solicitudes: \n",
    "`4, 3, 2, 1, 0, 1, 2, 3, 4, 3, 2, 1, 0, 1, 2, 3, 4`\n",
    "    \n",
    "Imprima la lista de configuración, la solicitud, su costo y la configuración de la lista aplicando MTF por cada solicitud en la secuencia y, al final, imprima el costo total de los accesos."
   ]
  },
  {
   "cell_type": "code",
   "execution_count": 14,
   "metadata": {},
   "outputs": [
    {
     "name": "stdout",
     "output_type": "stream",
     "text": [
      "Lista de Configuración: [0, 1, 2, 3, 4]\n",
      "Secuencia de Solicitudes: [4, 3, 2, 1, 0, 1, 2, 3, 4, 3, 2, 1, 0, 1, 2, 3, 4]\n",
      "\n",
      "Configuración: [4, 0, 1, 2, 3], Solicitud: 4, Costo: 5\n",
      "Configuración: [3, 4, 0, 1, 2], Solicitud: 3, Costo: 5\n",
      "Configuración: [2, 3, 4, 0, 1], Solicitud: 2, Costo: 5\n",
      "Configuración: [1, 2, 3, 4, 0], Solicitud: 1, Costo: 5\n",
      "Configuración: [0, 1, 2, 3, 4], Solicitud: 0, Costo: 5\n",
      "Configuración: [1, 0, 2, 3, 4], Solicitud: 1, Costo: 2\n",
      "Configuración: [2, 1, 0, 3, 4], Solicitud: 2, Costo: 3\n",
      "Configuración: [3, 2, 1, 0, 4], Solicitud: 3, Costo: 4\n",
      "Configuración: [4, 3, 2, 1, 0], Solicitud: 4, Costo: 5\n",
      "Configuración: [3, 4, 2, 1, 0], Solicitud: 3, Costo: 2\n",
      "Configuración: [2, 3, 4, 1, 0], Solicitud: 2, Costo: 3\n",
      "Configuración: [1, 2, 3, 4, 0], Solicitud: 1, Costo: 4\n",
      "Configuración: [0, 1, 2, 3, 4], Solicitud: 0, Costo: 5\n",
      "Configuración: [1, 0, 2, 3, 4], Solicitud: 1, Costo: 2\n",
      "Configuración: [2, 1, 0, 3, 4], Solicitud: 2, Costo: 3\n",
      "Configuración: [3, 2, 1, 0, 4], Solicitud: 3, Costo: 4\n",
      "Configuración: [4, 3, 2, 1, 0], Solicitud: 4, Costo: 5\n",
      "\n",
      "Costo total: 67\n"
     ]
    }
   ],
   "source": [
    "config = [0, 1, 2, 3, 4]\n",
    "sequence= [4, 3, 2, 1, 0, 1, 2, 3, 4, 3, 2, 1, 0, 1, 2, 3, 4]\n",
    "costo = mtf_cost(config, sequence)"
   ]
  },
  {
   "cell_type": "markdown",
   "metadata": {},
   "source": [
    "---\n",
    "**C) ¿Para qué secuencia de 20 solicitudes se obtiene el mínimo costo total de acceso utilizando el algoritmo MTF para la configuración 0, 1, 2, 3, 4? ¿Cuál sería ese costo total de acceso?**"
   ]
  },
  {
   "cell_type": "markdown",
   "metadata": {},
   "source": [
    "La teoría indica que el algoritmo MTF da el costo mínimo cuando todos los elementos de la secuencia de solicitudes se acceden como el primer elemento de la lista. El costo total de acceso es igual a `n`, donde `n` es el tamaño de la secuencia de solicitudes."
   ]
  },
  {
   "cell_type": "code",
   "execution_count": 15,
   "metadata": {},
   "outputs": [
    {
     "name": "stdout",
     "output_type": "stream",
     "text": [
      "Secuencia de Costo Mímimo encontrada: [0, 0, 0, 0, 0, 0, 0, 0, 0, 0, 0, 0, 0, 0, 0, 0, 0, 0, 0, 0]           \n",
      " para una longitud de 20 solicitudes\n",
      "\n",
      "Lista de Configuración: [0, 1, 2, 3, 4]\n",
      "Secuencia de Solicitudes: [0, 0, 0, 0, 0, 0, 0, 0, 0, 0, 0, 0, 0, 0, 0, 0, 0, 0, 0, 0]\n",
      "\n",
      "Configuración: [0, 1, 2, 3, 4], Solicitud: 0, Costo: 1\n",
      "Configuración: [0, 1, 2, 3, 4], Solicitud: 0, Costo: 1\n",
      "Configuración: [0, 1, 2, 3, 4], Solicitud: 0, Costo: 1\n",
      "Configuración: [0, 1, 2, 3, 4], Solicitud: 0, Costo: 1\n",
      "Configuración: [0, 1, 2, 3, 4], Solicitud: 0, Costo: 1\n",
      "Configuración: [0, 1, 2, 3, 4], Solicitud: 0, Costo: 1\n",
      "Configuración: [0, 1, 2, 3, 4], Solicitud: 0, Costo: 1\n",
      "Configuración: [0, 1, 2, 3, 4], Solicitud: 0, Costo: 1\n",
      "Configuración: [0, 1, 2, 3, 4], Solicitud: 0, Costo: 1\n",
      "Configuración: [0, 1, 2, 3, 4], Solicitud: 0, Costo: 1\n",
      "Configuración: [0, 1, 2, 3, 4], Solicitud: 0, Costo: 1\n",
      "Configuración: [0, 1, 2, 3, 4], Solicitud: 0, Costo: 1\n",
      "Configuración: [0, 1, 2, 3, 4], Solicitud: 0, Costo: 1\n",
      "Configuración: [0, 1, 2, 3, 4], Solicitud: 0, Costo: 1\n",
      "Configuración: [0, 1, 2, 3, 4], Solicitud: 0, Costo: 1\n",
      "Configuración: [0, 1, 2, 3, 4], Solicitud: 0, Costo: 1\n",
      "Configuración: [0, 1, 2, 3, 4], Solicitud: 0, Costo: 1\n",
      "Configuración: [0, 1, 2, 3, 4], Solicitud: 0, Costo: 1\n",
      "Configuración: [0, 1, 2, 3, 4], Solicitud: 0, Costo: 1\n",
      "Configuración: [0, 1, 2, 3, 4], Solicitud: 0, Costo: 1\n",
      "\n",
      "Costo total: 20\n"
     ]
    }
   ],
   "source": [
    "config = [0, 1, 2, 3, 4]\n",
    "sequence = min_cost_sequence(config, 20)\n",
    "print()\n",
    "cost = mtf_cost(config, sequence)"
   ]
  },
  {
   "cell_type": "markdown",
   "metadata": {},
   "source": [
    "La secuencia con costo mínimo para una secuencia de `20` solicitudes, es una secuencia conformada solo por `0` ya que es el primer elemento de la lista de configuración.\n",
    "\n",
    "Su costo total es `20` debido a que `20` es la longitud de la secuencia.\n",
    "\n",
    "---"
   ]
  },
  {
   "cell_type": "markdown",
   "metadata": {},
   "source": [
    "**D) ¿Para qué secuencia de 20 solicitudes se obtiene el peor de los casos utilizando el algoritmo MTF para la configuración 0, 1, 2, 3, 4? ¿Cuál sería ese costo total de acceso?**"
   ]
  },
  {
   "cell_type": "markdown",
   "metadata": {},
   "source": [
    "La teoría indica que el algoritmo MTF da el pero costo cuando la secuencia de solicitudes está en orden inverso al de la lista de configuración. Aquí el costo total de acceso es igual a `n * l`, donde `l` es el tamaño de la lista de configuración y `n` es el tamaño de la secuencia de solicitudes."
   ]
  },
  {
   "cell_type": "code",
   "execution_count": 16,
   "metadata": {},
   "outputs": [
    {
     "name": "stdout",
     "output_type": "stream",
     "text": [
      "Secuencia de Costo Máximo encontrada: [4, 3, 2, 1, 0, 4, 3, 2, 1, 0, 4, 3, 2, 1, 0, 4, 3, 2, 1, 0]           \n",
      "para una longitud de 20 solicitudes\n",
      "\n",
      "Lista de Configuración: [0, 1, 2, 3, 4]\n",
      "Secuencia de Solicitudes: [4, 3, 2, 1, 0, 4, 3, 2, 1, 0, 4, 3, 2, 1, 0, 4, 3, 2, 1, 0]\n",
      "\n",
      "Configuración: [4, 0, 1, 2, 3], Solicitud: 4, Costo: 5\n",
      "Configuración: [3, 4, 0, 1, 2], Solicitud: 3, Costo: 5\n",
      "Configuración: [2, 3, 4, 0, 1], Solicitud: 2, Costo: 5\n",
      "Configuración: [1, 2, 3, 4, 0], Solicitud: 1, Costo: 5\n",
      "Configuración: [0, 1, 2, 3, 4], Solicitud: 0, Costo: 5\n",
      "Configuración: [4, 0, 1, 2, 3], Solicitud: 4, Costo: 5\n",
      "Configuración: [3, 4, 0, 1, 2], Solicitud: 3, Costo: 5\n",
      "Configuración: [2, 3, 4, 0, 1], Solicitud: 2, Costo: 5\n",
      "Configuración: [1, 2, 3, 4, 0], Solicitud: 1, Costo: 5\n",
      "Configuración: [0, 1, 2, 3, 4], Solicitud: 0, Costo: 5\n",
      "Configuración: [4, 0, 1, 2, 3], Solicitud: 4, Costo: 5\n",
      "Configuración: [3, 4, 0, 1, 2], Solicitud: 3, Costo: 5\n",
      "Configuración: [2, 3, 4, 0, 1], Solicitud: 2, Costo: 5\n",
      "Configuración: [1, 2, 3, 4, 0], Solicitud: 1, Costo: 5\n",
      "Configuración: [0, 1, 2, 3, 4], Solicitud: 0, Costo: 5\n",
      "Configuración: [4, 0, 1, 2, 3], Solicitud: 4, Costo: 5\n",
      "Configuración: [3, 4, 0, 1, 2], Solicitud: 3, Costo: 5\n",
      "Configuración: [2, 3, 4, 0, 1], Solicitud: 2, Costo: 5\n",
      "Configuración: [1, 2, 3, 4, 0], Solicitud: 1, Costo: 5\n",
      "Configuración: [0, 1, 2, 3, 4], Solicitud: 0, Costo: 5\n",
      "\n",
      "Costo total: 100\n"
     ]
    }
   ],
   "source": [
    "config = [0, 1, 2, 3, 4]\n",
    "sequence = max_cost_sequence(config, 20)\n",
    "print()\n",
    "cost = mtf_cost(config, sequence)"
   ]
  },
  {
   "cell_type": "markdown",
   "metadata": {},
   "source": [
    "La secuencia con costo máximo para una secuencia de 20 solicitudes es una secuencia conformada por la repeticion de la lista `4,3,2,1,0` 4 veces seguidas, ya que es la lista de configuración invertida repitiendose 4 veces para conformar `20` elementos en la secuencia.\n",
    "\n",
    "Su costo total es de `100` ya que el tamaño de la secuencia es `20` y la configuracion es de `5`, es decir `5*20 = 100`\n",
    "\n",
    "---"
   ]
  },
  {
   "cell_type": "markdown",
   "metadata": {},
   "source": [
    "**E) Calcular el costo de acceso utilizando el algoritmo MTF para**\n",
    "\n",
    "a. Lista de configuración: \n",
    "    `0, 1, 2, 3, 4`\n",
    "\n",
    "b. Secuencia de solicitudes: \n",
    "    `2, 2, 2, 2, 2, 2, 2, 2, 2, 2, 2, 2, 2, 2, 2, 2, 2, 2, 2, 2`\n",
    "\n",
    "Imprima la lista de configuración, la solicitud, su costo y la configuración de la lista aplicando MTF por cada secuencia de solicitudes y al final el costo total de acceso."
   ]
  },
  {
   "cell_type": "code",
   "execution_count": 17,
   "metadata": {},
   "outputs": [
    {
     "name": "stdout",
     "output_type": "stream",
     "text": [
      "Lista de Configuración: [0, 1, 2, 3, 4]\n",
      "Secuencia de Solicitudes: [2, 2, 2, 2, 2, 2, 2, 2, 2, 2, 2, 2, 2, 2, 2, 2, 2, 2, 2, 2]\n",
      "\n",
      "Configuración: [2, 0, 1, 3, 4], Solicitud: 2, Costo: 3\n",
      "Configuración: [2, 0, 1, 3, 4], Solicitud: 2, Costo: 1\n",
      "Configuración: [2, 0, 1, 3, 4], Solicitud: 2, Costo: 1\n",
      "Configuración: [2, 0, 1, 3, 4], Solicitud: 2, Costo: 1\n",
      "Configuración: [2, 0, 1, 3, 4], Solicitud: 2, Costo: 1\n",
      "Configuración: [2, 0, 1, 3, 4], Solicitud: 2, Costo: 1\n",
      "Configuración: [2, 0, 1, 3, 4], Solicitud: 2, Costo: 1\n",
      "Configuración: [2, 0, 1, 3, 4], Solicitud: 2, Costo: 1\n",
      "Configuración: [2, 0, 1, 3, 4], Solicitud: 2, Costo: 1\n",
      "Configuración: [2, 0, 1, 3, 4], Solicitud: 2, Costo: 1\n",
      "Configuración: [2, 0, 1, 3, 4], Solicitud: 2, Costo: 1\n",
      "Configuración: [2, 0, 1, 3, 4], Solicitud: 2, Costo: 1\n",
      "Configuración: [2, 0, 1, 3, 4], Solicitud: 2, Costo: 1\n",
      "Configuración: [2, 0, 1, 3, 4], Solicitud: 2, Costo: 1\n",
      "Configuración: [2, 0, 1, 3, 4], Solicitud: 2, Costo: 1\n",
      "Configuración: [2, 0, 1, 3, 4], Solicitud: 2, Costo: 1\n",
      "Configuración: [2, 0, 1, 3, 4], Solicitud: 2, Costo: 1\n",
      "Configuración: [2, 0, 1, 3, 4], Solicitud: 2, Costo: 1\n",
      "Configuración: [2, 0, 1, 3, 4], Solicitud: 2, Costo: 1\n",
      "Configuración: [2, 0, 1, 3, 4], Solicitud: 2, Costo: 1\n",
      "\n",
      "Costo total: 22\n"
     ]
    }
   ],
   "source": [
    "config = [0, 1, 2, 3, 4]\n",
    "sequence = [2, 2, 2, 2, 2, 2, 2, 2, 2, 2, 2, 2, 2, 2, 2, 2, 2, 2, 2, 2]\n",
    "cost = mtf_cost(config, sequence)"
   ]
  },
  {
   "cell_type": "markdown",
   "metadata": {},
   "source": [
    "Si se hiciera la secuencia de solicitudes 3, 3, 3, 3, 3, 3, 3, 3, 3, 3, 3, 3, 3, 3, 3, 3, 3, 3, 3, 3\n",
    "¿cuál es el costo total de acceso?\n",
    "¿Se observa algún patrón cuando hay una repetición de 20 elementos en la secuencia?"
   ]
  },
  {
   "cell_type": "code",
   "execution_count": 18,
   "metadata": {},
   "outputs": [
    {
     "name": "stdout",
     "output_type": "stream",
     "text": [
      "Lista de Configuración: [0, 1, 2, 3, 4]\n",
      "Secuencia de Solicitudes: [3, 3, 3, 3, 3, 3, 3, 3, 3, 3, 3, 3, 3, 3, 3, 3, 3, 3, 3, 3]\n",
      "\n",
      "Configuración: [3, 0, 1, 2, 4], Solicitud: 3, Costo: 4\n",
      "Configuración: [3, 0, 1, 2, 4], Solicitud: 3, Costo: 1\n",
      "Configuración: [3, 0, 1, 2, 4], Solicitud: 3, Costo: 1\n",
      "Configuración: [3, 0, 1, 2, 4], Solicitud: 3, Costo: 1\n",
      "Configuración: [3, 0, 1, 2, 4], Solicitud: 3, Costo: 1\n",
      "Configuración: [3, 0, 1, 2, 4], Solicitud: 3, Costo: 1\n",
      "Configuración: [3, 0, 1, 2, 4], Solicitud: 3, Costo: 1\n",
      "Configuración: [3, 0, 1, 2, 4], Solicitud: 3, Costo: 1\n",
      "Configuración: [3, 0, 1, 2, 4], Solicitud: 3, Costo: 1\n",
      "Configuración: [3, 0, 1, 2, 4], Solicitud: 3, Costo: 1\n",
      "Configuración: [3, 0, 1, 2, 4], Solicitud: 3, Costo: 1\n",
      "Configuración: [3, 0, 1, 2, 4], Solicitud: 3, Costo: 1\n",
      "Configuración: [3, 0, 1, 2, 4], Solicitud: 3, Costo: 1\n",
      "Configuración: [3, 0, 1, 2, 4], Solicitud: 3, Costo: 1\n",
      "Configuración: [3, 0, 1, 2, 4], Solicitud: 3, Costo: 1\n",
      "Configuración: [3, 0, 1, 2, 4], Solicitud: 3, Costo: 1\n",
      "Configuración: [3, 0, 1, 2, 4], Solicitud: 3, Costo: 1\n",
      "Configuración: [3, 0, 1, 2, 4], Solicitud: 3, Costo: 1\n",
      "Configuración: [3, 0, 1, 2, 4], Solicitud: 3, Costo: 1\n",
      "Configuración: [3, 0, 1, 2, 4], Solicitud: 3, Costo: 1\n",
      "\n",
      "Costo total: 23\n"
     ]
    }
   ],
   "source": [
    "config = [0, 1, 2, 3, 4]\n",
    "sequence = [3, 3, 3, 3, 3, 3, 3, 3, 3, 3, 3, 3, 3, 3, 3, 3, 3, 3, 3, 3]\n",
    "cost = mtf_cost(config, sequence)"
   ]
  },
  {
   "cell_type": "markdown",
   "metadata": {},
   "source": [
    "El patrón que se observa es que únicamente la primera solicitud tendrá un costo mayor si el elemento no es el primero en la lista de configuración. Es decir, el costo en ese primer paso será igual a la posición en la que se encuentre el elemento de la solicitud en la configuración. Posteriormente, el resto de las solicitudes tendrán un costo mínimo, ya que ahora se está buscando el elemento solicitado en la primera posición de la configuración.\n",
    "\n",
    "---"
   ]
  },
  {
   "cell_type": "markdown",
   "metadata": {},
   "source": [
    "**F) Se plantea un algoritmo mejorado de MTF: IMTF por Rakesh Mohanty y Sasmita Tripathy, basado en el concepto de mirada hacia adelante (look-ahead), en el cual, después de acceder al elemento de la posición 𝑖 en la lista de configuración, se mueve el elemento al frente de la lista si y sólo si este elemento está en los próximos 𝑖 − 1 elementos del elemento accedido en la solicitud de secuencia. En caso contrario, el elemento accedido no se mueve al frente de la lista de configuración. Imprima la lista de configuración, la solicitud, su costo y la configuración de la lista aplicando IMTF por cada solicitud en la secuencia. Al final, imprima el costo total de acceso usando IMTF para el mejor y el peor de los casos de MTF.**"
   ]
  },
  {
   "cell_type": "code",
   "execution_count": 19,
   "metadata": {},
   "outputs": [
    {
     "name": "stdout",
     "output_type": "stream",
     "text": [
      "Secuencia de Costo Mínimo (IMTF)\n",
      "Secuencia de Costo Mímimo encontrada: [0, 0, 0, 0, 0, 0, 0, 0, 0, 0, 0, 0, 0, 0, 0, 0, 0, 0, 0, 0]           \n",
      " para una longitud de 20 solicitudes\n",
      "Lista de Configuración: [0, 1, 2, 3, 4]\n",
      "Secuencia de Solicitudes: [0, 0, 0, 0, 0, 0, 0, 0, 0, 0, 0, 0, 0, 0, 0, 0, 0, 0, 0, 0]\n",
      "\n",
      "Configuración: [0, 1, 2, 3, 4], Solicitud: 0, Costo: 1\n",
      "Configuración: [0, 1, 2, 3, 4], Solicitud: 0, Costo: 1\n",
      "Configuración: [0, 1, 2, 3, 4], Solicitud: 0, Costo: 1\n",
      "Configuración: [0, 1, 2, 3, 4], Solicitud: 0, Costo: 1\n",
      "Configuración: [0, 1, 2, 3, 4], Solicitud: 0, Costo: 1\n",
      "Configuración: [0, 1, 2, 3, 4], Solicitud: 0, Costo: 1\n",
      "Configuración: [0, 1, 2, 3, 4], Solicitud: 0, Costo: 1\n",
      "Configuración: [0, 1, 2, 3, 4], Solicitud: 0, Costo: 1\n",
      "Configuración: [0, 1, 2, 3, 4], Solicitud: 0, Costo: 1\n",
      "Configuración: [0, 1, 2, 3, 4], Solicitud: 0, Costo: 1\n",
      "Configuración: [0, 1, 2, 3, 4], Solicitud: 0, Costo: 1\n",
      "Configuración: [0, 1, 2, 3, 4], Solicitud: 0, Costo: 1\n",
      "Configuración: [0, 1, 2, 3, 4], Solicitud: 0, Costo: 1\n",
      "Configuración: [0, 1, 2, 3, 4], Solicitud: 0, Costo: 1\n",
      "Configuración: [0, 1, 2, 3, 4], Solicitud: 0, Costo: 1\n",
      "Configuración: [0, 1, 2, 3, 4], Solicitud: 0, Costo: 1\n",
      "Configuración: [0, 1, 2, 3, 4], Solicitud: 0, Costo: 1\n",
      "Configuración: [0, 1, 2, 3, 4], Solicitud: 0, Costo: 1\n",
      "Configuración: [0, 1, 2, 3, 4], Solicitud: 0, Costo: 1\n",
      "Configuración: [0, 1, 2, 3, 4], Solicitud: 0, Costo: 1\n",
      "\n",
      "Costo total: 20\n"
     ]
    }
   ],
   "source": [
    "config = [0, 1, 2, 3, 4]\n",
    "n = 20\n",
    "print(\"Secuencia de Costo Mínimo (IMTF)\")\n",
    "best_sequence = min_cost_sequence(config, n)\n",
    "cost = imtf_cost(config, best_sequence)"
   ]
  },
  {
   "cell_type": "code",
   "execution_count": 20,
   "metadata": {},
   "outputs": [
    {
     "name": "stdout",
     "output_type": "stream",
     "text": [
      "Secuencia de Costo Máximo (IMTF)\n",
      "Secuencia de Costo Máximo encontrada: [4, 3, 2, 1, 0, 4, 3, 2, 1, 0, 4, 3, 2, 1, 0, 4, 3, 2, 1, 0]           \n",
      "para una longitud de 20 solicitudes\n",
      "Lista de Configuración: [0, 1, 2, 3, 4]\n",
      "Secuencia de Solicitudes: [4, 3, 2, 1, 0, 4, 3, 2, 1, 0, 4, 3, 2, 1, 0, 4, 3, 2, 1, 0]\n",
      "\n",
      "Configuración: [0, 1, 2, 3, 4], Solicitud: 4, Costo: 5\n",
      "Configuración: [0, 1, 2, 3, 4], Solicitud: 3, Costo: 4\n",
      "Configuración: [0, 1, 2, 3, 4], Solicitud: 2, Costo: 3\n",
      "Configuración: [0, 1, 2, 3, 4], Solicitud: 1, Costo: 2\n",
      "Configuración: [0, 1, 2, 3, 4], Solicitud: 0, Costo: 1\n",
      "Configuración: [0, 1, 2, 3, 4], Solicitud: 4, Costo: 5\n",
      "Configuración: [0, 1, 2, 3, 4], Solicitud: 3, Costo: 4\n",
      "Configuración: [0, 1, 2, 3, 4], Solicitud: 2, Costo: 3\n",
      "Configuración: [0, 1, 2, 3, 4], Solicitud: 1, Costo: 2\n",
      "Configuración: [0, 1, 2, 3, 4], Solicitud: 0, Costo: 1\n",
      "Configuración: [0, 1, 2, 3, 4], Solicitud: 4, Costo: 5\n",
      "Configuración: [0, 1, 2, 3, 4], Solicitud: 3, Costo: 4\n",
      "Configuración: [0, 1, 2, 3, 4], Solicitud: 2, Costo: 3\n",
      "Configuración: [0, 1, 2, 3, 4], Solicitud: 1, Costo: 2\n",
      "Configuración: [0, 1, 2, 3, 4], Solicitud: 0, Costo: 1\n",
      "Configuración: [0, 1, 2, 3, 4], Solicitud: 4, Costo: 5\n",
      "Configuración: [0, 1, 2, 3, 4], Solicitud: 3, Costo: 4\n",
      "Configuración: [0, 1, 2, 3, 4], Solicitud: 2, Costo: 3\n",
      "Configuración: [0, 1, 2, 3, 4], Solicitud: 1, Costo: 2\n",
      "Configuración: [0, 1, 2, 3, 4], Solicitud: 0, Costo: 1\n",
      "\n",
      "Costo total: 60\n"
     ]
    }
   ],
   "source": [
    "config = [0, 1, 2, 3, 4]\n",
    "n = 20\n",
    "print(\"Secuencia de Costo Máximo (IMTF)\")\n",
    "worst_sequence = max_cost_sequence(config, n)\n",
    "cost = imtf_cost(config, worst_sequence)   "
   ]
  }
 ],
 "metadata": {
  "kernelspec": {
   "display_name": "venv",
   "language": "python",
   "name": "python3"
  },
  "language_info": {
   "codemirror_mode": {
    "name": "ipython",
    "version": 3
   },
   "file_extension": ".py",
   "mimetype": "text/x-python",
   "name": "python",
   "nbconvert_exporter": "python",
   "pygments_lexer": "ipython3",
   "version": "3.11.6"
  }
 },
 "nbformat": 4,
 "nbformat_minor": 2
}
